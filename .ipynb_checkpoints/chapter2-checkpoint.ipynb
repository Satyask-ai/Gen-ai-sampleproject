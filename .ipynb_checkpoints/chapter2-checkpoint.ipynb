{
 "cells": [
  {
   "cell_type": "code",
   "execution_count": 3,
   "id": "3f595593-18a6-4fc3-ab5a-41a2de9b6c57",
   "metadata": {},
   "outputs": [],
   "source": [
    "from transformers import AutoTokenizer, AutoModel\n",
    "import matplotlib.pyplot as plt\n",
    "import pandas as pd\n",
    "import torch"
   ]
  },
  {
   "cell_type": "code",
   "execution_count": 4,
   "id": "6cb99589-fb2d-4ad1-8b86-9364c753adb7",
   "metadata": {},
   "outputs": [],
   "source": [
    "tokenizer = AutoTokenizer.from_pretrained(\"bert-base-uncased\")\n",
    "model = AutoModel.from_pretrained(\"bert-base-uncased\")"
   ]
  },
  {
   "cell_type": "code",
   "execution_count": 5,
   "id": "09e5578c-d07e-4e5a-98ef-3e3c46828f52",
   "metadata": {},
   "outputs": [],
   "source": [
    "# Input sentence\n",
    "text = \"Generative AI is transforming the world.\"\n",
    "\n",
    "# Tokenize text\n",
    "tokens = tokenizer.tokenize(text)\n",
    "token_ids = tokenizer.convert_tokens_to_ids(tokens)\n",
    "input_ids = torch.tensor([token_ids]"
   ]
  },
  {
   "cell_type": "code",
   "execution_count": 9,
   "id": "a8614f2c-65ac-4e4f-ac46-fab6c3e97ecc",
   "metadata": {},
   "outputs": [],
   "source": [
    "# Get embeddings\n",
    "with torch.no_grad():\n",
    "    outputs = model(input_ids)\n",
    "    embeddings = outputs.last_hidden_state[0]\n"
   ]
  },
  {
   "cell_type": "code",
   "execution_count": 14,
   "id": "740170ff-85b8-4a80-9522-89f49f523be6",
   "metadata": {},
   "outputs": [],
   "source": [
    "# create dataframe\n",
    "embedding_df = pd.DataFrame(embeddings.numpy(), index=tokens)"
   ]
  },
  {
   "cell_type": "code",
   "execution_count": 20,
   "id": "af04074e-4411-4cde-a78f-3292341a009f",
   "metadata": {},
   "outputs": [],
   "source": [
    "# Reduce dimensions with PCA \n",
    "from sklearn.decomposition import PCA\n",
    "\n",
    "\n",
    "\n",
    "pca = PCA(n_components=2)\n",
    "reduced_embeddings=pca.fit_transform(embedding_df)\n",
    "reduced_df = pd.DataFrame(reduced_embeddings, columns=['PC1', 'PC2'])\n",
    "reduced_df['token']=embedding_df.index"
   ]
  },
  {
   "cell_type": "code",
   "execution_count": 21,
   "id": "1e80d51b-eaae-4eb9-9e26-b8752f839534",
   "metadata": {},
   "outputs": [
    {
     "ename": "ModuleNotFoundError",
     "evalue": "No module named 'seaborn'",
     "output_type": "error",
     "traceback": [
      "\u001b[1;31m---------------------------------------------------------------------------\u001b[0m",
      "\u001b[1;31mModuleNotFoundError\u001b[0m                       Traceback (most recent call last)",
      "Cell \u001b[1;32mIn[21], line 2\u001b[0m\n\u001b[0;32m      1\u001b[0m \u001b[38;5;66;03m#Plot\u001b[39;00m\n\u001b[1;32m----> 2\u001b[0m \u001b[38;5;28;01mimport\u001b[39;00m\u001b[38;5;250m \u001b[39m\u001b[38;5;21;01mseaborn\u001b[39;00m\u001b[38;5;250m \u001b[39m\u001b[38;5;28;01mas\u001b[39;00m\u001b[38;5;250m \u001b[39m\u001b[38;5;21;01msns\u001b[39;00m\n\u001b[0;32m      4\u001b[0m plt\u001b[38;5;241m.\u001b[39mfigure(figsize\u001b[38;5;241m=\u001b[39m(\u001b[38;5;241m10\u001b[39m, \u001b[38;5;241m6\u001b[39m))\n\u001b[0;32m      5\u001b[0m sns\u001b[38;5;241m.\u001b[39mscatterplot(x\u001b[38;5;241m=\u001b[39m\u001b[38;5;124m'\u001b[39m\u001b[38;5;124mPC1\u001b[39m\u001b[38;5;124m'\u001b[39m, y\u001b[38;5;241m=\u001b[39m\u001b[38;5;124m'\u001b[39m\u001b[38;5;124mPC2\u001b[39m\u001b[38;5;124m'\u001b[39m, data\u001b[38;5;241m=\u001b[39mreduced_df, hue\u001b[38;5;241m=\u001b[39m\u001b[38;5;124m'\u001b[39m\u001b[38;5;124mtoken\u001b[39m\u001b[38;5;124m'\u001b[39m, s\u001b[38;5;241m=\u001b[39m\u001b[38;5;241m100\u001b[39m, palette\u001b[38;5;241m=\u001b[39m\u001b[38;5;124m'\u001b[39m\u001b[38;5;124mtab10\u001b[39m\u001b[38;5;124m'\u001b[39m)\n",
      "\u001b[1;31mModuleNotFoundError\u001b[0m: No module named 'seaborn'"
     ]
    }
   ],
   "source": [
    "#Plot\n",
    "import seaborn as sns\n",
    "\n",
    "plt.figure(figsize=(10, 6))\n",
    "sns.scatterplot(x='PC1', y='PC2', data=reduced_df, hue='token', s=100, palette='tab10')\n",
    "plt.title(\"PCA Visualization\")\n",
    "plt.xlabel(\"Principal component 1\")\n",
    "plt.ylabel(\"Principal component 2\")\n",
    "plt.legend(bbox_to_anchor=(1.05, 1), loc='upper left')\n",
    "plt.tight_layout()\n",
    "plt.show()"
   ]
  },
  {
   "cell_type": "code",
   "execution_count": null,
   "id": "92fa6a64-3b5e-4f57-af01-36bc18345b67",
   "metadata": {},
   "outputs": [],
   "source": []
  }
 ],
 "metadata": {
  "kernelspec": {
   "display_name": "Python 3 (ipykernel)",
   "language": "python",
   "name": "python3"
  },
  "language_info": {
   "codemirror_mode": {
    "name": "ipython",
    "version": 3
   },
   "file_extension": ".py",
   "mimetype": "text/x-python",
   "name": "python",
   "nbconvert_exporter": "python",
   "pygments_lexer": "ipython3",
   "version": "3.10.18"
  }
 },
 "nbformat": 4,
 "nbformat_minor": 5
}
